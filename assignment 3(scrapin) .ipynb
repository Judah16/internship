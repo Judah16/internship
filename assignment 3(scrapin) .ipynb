{
 "cells": [
  {
   "cell_type": "code",
   "execution_count": null,
   "id": "d257a23a",
   "metadata": {},
   "outputs": [],
   "source": [
    "import pandas as pd\n",
    "import selenium\n",
    "from selenium import webdriver\n",
    "import warnings \n",
    "warnings.filterwarnings('ignore')"
   ]
  },
  {
   "cell_type": "code",
   "execution_count": null,
   "id": "60ec3372",
   "metadata": {},
   "outputs": [],
   "source": [
    "driver=webdriver.Chrome(r\"C:\\Users\\MANISHA JUDHA\\Desktop\\chromedriver.exe\")"
   ]
  },
  {
   "cell_type": "code",
   "execution_count": null,
   "id": "d77b7c58",
   "metadata": {},
   "outputs": [],
   "source": [
    "driver.get('https://www.amazon.in/')\n",
    "search = input('Enter the product you want to search : ')"
   ]
  },
  {
   "cell_type": "code",
   "execution_count": null,
   "id": "76de6196",
   "metadata": {},
   "outputs": [],
   "source": [
    "search_bar = driver.find_element_by_id(\"twotabsearchtextbox\")    \n",
    "search_bar.clear()\n",
    "search_bar.send_keys(search)                                 \n",
    "search_button = driver.find_element_by_xpath('//div[@class=\"nav-search-submit nav-sprite\"]/span/input')     \n",
    "search_button.click()       "
   ]
  },
  {
   "cell_type": "markdown",
   "id": "99732c7d",
   "metadata": {},
   "source": [
    "# 2nd"
   ]
  },
  {
   "cell_type": "code",
   "execution_count": null,
   "id": "44ff9033",
   "metadata": {},
   "outputs": [],
   "source": [
    "upper = int(input(\"Enter the number of pages you want to scrape: \"))\n",
    "upper = upper + 1"
   ]
  },
  {
   "cell_type": "code",
   "execution_count": null,
   "id": "8209c8b4",
   "metadata": {},
   "outputs": [],
   "source": [
    "Brand_Name = []\n",
    "Product_Name = []\n",
    "price = []\n",
    "No_of_Exchange=[]\n",
    "Expected_Delivery = []\n",
    "Availability = []\n",
    "Product_URL = []"
   ]
  },
  {
   "cell_type": "code",
   "execution_count": null,
   "id": "67e02bc0",
   "metadata": {},
   "outputs": [],
   "source": [
    "Brand_Name=driver.find_elements_by_xpath('//*[@id=\"search\"]/div[1]/div[1]/div/span[3]/div[2]/div[3]/div/div/div/div/div/div/div/div[2]/div/div/div[1]/h2/a/span')\n",
    "for i in Brand_Name:\n",
    "    if i.text is None :\n",
    "        Brand.append(\"--\") \n",
    "    else:\n",
    "        Brand.append(i.text)\n",
    "    \n",
    "Brand_Name[0:10]"
   ]
  },
  {
   "cell_type": "code",
   "execution_count": null,
   "id": "fe76557c",
   "metadata": {},
   "outputs": [],
   "source": [
    "#scraping the job-titles\n",
    "titles=driver.find_elements_by_xpath(\"//a[@class='title fw500 ellipsis']\")\n",
    "for i in titles:\n",
    "    if i.text is None :\n",
    "        job_title.append(\"--\") \n",
    "    else:\n",
    "        job_title.append(i.text)\n",
    "    \n",
    "job_title[0:2]"
   ]
  },
  {
   "cell_type": "code",
   "execution_count": null,
   "id": "c368edfe",
   "metadata": {},
   "outputs": [],
   "source": [
    "#scraping the job-location\n",
    "locations=driver.find_elements_by_xpath(\"//li[@class='fleft grey-text br2 placeHolderLi location']/span[1]\")\n",
    "for i in locations:\n",
    "    if i.text is None :\n",
    "        job_location.append(\"--\") \n",
    "    else:\n",
    "        job_location.append(i.text)\n",
    "job_location[0:2]"
   ]
  },
  {
   "cell_type": "code",
   "execution_count": null,
   "id": "e433b201",
   "metadata": {},
   "outputs": [],
   "source": [
    "#scraping the company_name \n",
    "companies=driver.find_elements_by_xpath(\"//div[@class='mt-7 companyInfo subheading lh16']/a\")\n",
    "for i in companies:\n",
    "    if i.text is None :\n",
    "        company_name.append(\"--\") \n",
    "    else:\n",
    "        company_name.append(i.text)\n",
    "company_name[0:2]"
   ]
  },
  {
   "cell_type": "code",
   "execution_count": null,
   "id": "1e825fd9",
   "metadata": {},
   "outputs": [],
   "source": [
    "#scraping the experience_required \n",
    "experience=driver.find_elements_by_xpath(\"//li[@class='fleft grey-text br2 placeHolderLi experience']/span[1]\")\n",
    "for i in experience:\n",
    "    if i.text is None :\n",
    "            experience_required.append(\"--\") \n",
    "    else:\n",
    "            experience_required.append(i.text)\n",
    "experience_required[0:2]"
   ]
  },
  {
   "cell_type": "markdown",
   "id": "e01ec0cc",
   "metadata": {},
   "source": [
    "## question 3"
   ]
  },
  {
   "cell_type": "code",
   "execution_count": null,
   "id": "0faa8a07",
   "metadata": {},
   "outputs": [],
   "source": [
    "url='https://images.google.com/'\n",
    "driver.get(url)"
   ]
  },
  {
   "cell_type": "code",
   "execution_count": null,
   "id": "c81dfdef",
   "metadata": {},
   "outputs": [],
   "source": [
    "search_btn=driver.find_elements_by_xpath('//a[@class=\"title fw500 ellipsis\"]')\n",
    "search_btn.send_keys('fruit')"
   ]
  },
  {
   "cell_type": "code",
   "execution_count": null,
   "id": "ba108f5a",
   "metadata": {},
   "outputs": [],
   "source": [
    "search_bar=driver.find_elements_by_xpath('//a[@class=\"title fw500 ellipsis\"]')\n",
    "search_bar.send_keys('car')"
   ]
  },
  {
   "cell_type": "code",
   "execution_count": null,
   "id": "e2948ed9",
   "metadata": {},
   "outputs": [],
   "source": [
    "search_bar.send_keys(\"machine learning\")"
   ]
  },
  {
   "cell_type": "code",
   "execution_count": null,
   "id": "36ee6460",
   "metadata": {},
   "outputs": [],
   "source": [
    "Machine_learning=driver.find_elements_by_xpath('//div[@class=\"bRMDJf islir\"]')\n",
    "machine_learning=[]\n",
    "for i in Machine_learning:\n",
    "    machine_learning.append(i.get_attribute(\"src\"))"
   ]
  },
  {
   "cell_type": "markdown",
   "id": "f37e610b",
   "metadata": {},
   "source": [
    "# question 4"
   ]
  },
  {
   "cell_type": "code",
   "execution_count": null,
   "id": "dd79bab2",
   "metadata": {},
   "outputs": [],
   "source": [
    "driver=webdriver.Chrome(\"chromedriver.exe\") "
   ]
  },
  {
   "cell_type": "code",
   "execution_count": null,
   "id": "159fd0cb",
   "metadata": {},
   "outputs": [],
   "source": [
    "driver.get('https://www.flipkart.com/')"
   ]
  },
  {
   "cell_type": "code",
   "execution_count": null,
   "id": "e2cec708",
   "metadata": {},
   "outputs": [],
   "source": [
    "user_inp = input(\"Enter the product you want to search :\")"
   ]
  },
  {
   "cell_type": "code",
   "execution_count": null,
   "id": "9bf5d4af",
   "metadata": {},
   "outputs": [],
   "source": [
    "search_bar=driver.find_element_by_class_name(\"_3704LK\")\n",
    "search_bar.send_keys(user_inp)\n",
    "button=driver.find_element_by_class_name('L0Z3Pu')\n",
    "button.click()"
   ]
  },
  {
   "cell_type": "code",
   "execution_count": null,
   "id": "8032b274",
   "metadata": {},
   "outputs": [],
   "source": [
    "\n",
    "brand=driver.find_elements_by_xpath(\"//div[@class='_4rR01T']\")\n",
    "for i in brand:\n",
    "    if i.text is None :\n",
    "        brand_name.append(\"--\")      \n",
    "    else:\n",
    "        brand_name.append(i.text)\n"
   ]
  },
  {
   "cell_type": "code",
   "execution_count": null,
   "id": "7437879f",
   "metadata": {},
   "outputs": [],
   "source": [
    "prices=driver.find_elements_by_xpath(\"//div[@class='_30jeq3 _1_WHN1']\")\n",
    "for i in prices:\n",
    "    if i.text is None :\n",
    "        price.append(\"--\")      \n",
    "    else:\n",
    "        price.append(i.text)\n",
    "        "
   ]
  },
  {
   "cell_type": "code",
   "execution_count": null,
   "id": "1fd6c45a",
   "metadata": {},
   "outputs": [],
   "source": [
    "discounts=driver.find_elements_by_xpath(\"//div[@class='_3Ay6Sb']/span\")\n",
    "for i in discounts:\n",
    "    if i.text is None :\n",
    "        discount.append(\"--\")      \n",
    "    else:\n",
    "        discount.append(i.text)"
   ]
  },
  {
   "cell_type": "code",
   "execution_count": null,
   "id": "d8b793c1",
   "metadata": {},
   "outputs": [],
   "source": [
    "rating=driver.find_elements_by_xpath(\"//div[@class='_3LWZlK']\")\n",
    "for i in rating:\n",
    "    if i.text is None :\n",
    "        ratings.append(\"--\")      \n",
    "    else:\n",
    "        ratings.append(i.text)"
   ]
  },
  {
   "cell_type": "code",
   "execution_count": null,
   "id": "6d2c72fd",
   "metadata": {},
   "outputs": [],
   "source": [
    "no_of_rating=driver.find_elements_by_xpath(\"//span[@class='_2_R_DZ']/span[1]\")\n",
    "for i in no_of_rating:\n",
    "    if i.text is None :\n",
    "        no_of_ratings.append(\"--\")      \n",
    "    else:\n",
    "        no_of_ratings.append(i.text)"
   ]
  },
  {
   "cell_type": "code",
   "execution_count": null,
   "id": "a5d75f69",
   "metadata": {},
   "outputs": [],
   "source": [
    "full_descs=driver.find_elements_by_xpath(\"//ul[@class='_1xgFaf']\")\n",
    "for i in full_descs:\n",
    "    if i.text is None :\n",
    "        full_desc.append(\"--\")      \n",
    "    else:\n",
    "        full_desc.append(i.text)\n",
    "        "
   ]
  },
  {
   "cell_type": "code",
   "execution_count": null,
   "id": "9c2d7532",
   "metadata": {},
   "outputs": [],
   "source": [
    "print(len(full_desc))"
   ]
  },
  {
   "cell_type": "code",
   "execution_count": null,
   "id": "188ab584",
   "metadata": {},
   "outputs": [],
   "source": [
    "df=pd.DataFrame({'Brand': brand_name,\n",
    "                'Price':price,\n",
    "                'Rating': ratings,\n",
    "                'Discount':discount,\n",
    "                'No of Ratings': no_of_ratings,\n",
    "                 'Full Description': full_desc})"
   ]
  },
  {
   "cell_type": "markdown",
   "id": "eac10c17",
   "metadata": {},
   "source": [
    "## question 5"
   ]
  },
  {
   "cell_type": "code",
   "execution_count": null,
   "id": "8fa16c60",
   "metadata": {},
   "outputs": [],
   "source": [
    "driver.get('https://www.google.com/maps/')"
   ]
  },
  {
   "cell_type": "code",
   "execution_count": null,
   "id": "4e8a8e61",
   "metadata": {},
   "outputs": [],
   "source": [
    "user_inp = input(\"Enter the product you want to search :\")"
   ]
  },
  {
   "cell_type": "code",
   "execution_count": null,
   "id": "1dbd8cb3",
   "metadata": {},
   "outputs": [],
   "source": [
    "search_bar=driver.find_element_by_class_name(\"tactile-searchbox-input\")\n",
    "search_bar.send_keys(user_inp)"
   ]
  },
  {
   "cell_type": "code",
   "execution_count": null,
   "id": "3113012e",
   "metadata": {},
   "outputs": [],
   "source": [
    "button=driver.find_element_by_class_name('searchbox-searchbutton-container')\n",
    "button.click()"
   ]
  },
  {
   "cell_type": "code",
   "execution_count": null,
   "id": "5ddc4efe",
   "metadata": {},
   "outputs": [],
   "source": [
    "search_butn.click()"
   ]
  },
  {
   "cell_type": "code",
   "execution_count": null,
   "id": "c0bc6dba",
   "metadata": {},
   "outputs": [],
   "source": [
    "job_title=[]\n",
    "job_location=[]\n",
    "company_name=[]\n",
    "experience_required=[]"
   ]
  },
  {
   "cell_type": "code",
   "execution_count": null,
   "id": "5f2eeb4e",
   "metadata": {},
   "outputs": [],
   "source": [
    "# finding the location check box\n",
    "loc=driver.find_element_by_xpath(\"/html/body/div[1]/div[3]/div[2]/section[2]/div[2]/article[1]/div[1]/div/ul/li[3]/span\")\n",
    "\n",
    "# clicking the check box\n",
    "loc.click()"
   ]
  },
  {
   "cell_type": "code",
   "execution_count": null,
   "id": "7513eff4",
   "metadata": {},
   "outputs": [],
   "source": [
    "#scraping the job-titles\n",
    "titles=driver.find_elements_by_xpath(\"//a[@class='title fw500 ellipsis']\")\n",
    "for i in titles:\n",
    "    if i.text is None :\n",
    "        job_title.append(\"--\") \n",
    "    else:\n",
    "        job_title.append(i.text)\n",
    "    \n",
    "job_title[0:2]"
   ]
  },
  {
   "cell_type": "code",
   "execution_count": null,
   "id": "2b1fa963",
   "metadata": {},
   "outputs": [],
   "source": [
    "#scraping the job-location\n",
    "locations=driver.find_elements_by_xpath(\"//li[@class='fleft grey-text br2 placeHolderLi location']/span[1]\")\n",
    "for i in locations:\n",
    "    if i.text is None :\n",
    "        job_location.append(\"--\") \n",
    "    else:\n",
    "        job_location.append(i.text)\n",
    "job_location[0:2]"
   ]
  },
  {
   "cell_type": "code",
   "execution_count": null,
   "id": "d3e9a0b1",
   "metadata": {},
   "outputs": [],
   "source": [
    "#scraping the company_name \n",
    "companies=driver.find_elements_by_xpath(\"//div[@class='mt-7 companyInfo subheading lh16']/a\")\n",
    "for i in companies:\n",
    "    if i.text is None :\n",
    "        company_name.append(\"--\") \n",
    "    else:\n",
    "        company_name.append(i.text)\n",
    "company_name[0:2]\n",
    "\n",
    " #scraping the experience_required \n",
    "experience=driver.find_elements_by_xpath(\"//li[@class='fleft grey-text br2 placeHolderLi experience']/span[1]\")\n",
    "for i in experience:\n",
    "    if i.text is None :\n",
    "            experience_required.append(\"--\") \n",
    "    else:\n",
    "            experience_required.append(i.text)\n",
    "experience_required[0:2]"
   ]
  },
  {
   "cell_type": "code",
   "execution_count": null,
   "id": "885a263c",
   "metadata": {},
   "outputs": [],
   "source": [
    "# creating the dataframe from the scraped data and taking only first 10 jobs\n",
    "df=pd.DataFrame({\"experience_required\":experience_required[0:10],\"company_name\":company_name[0:10],\"job_location\":job_location[0:10],\n",
    "                \"job_title\":job_title[0:10]})\n",
    "df.head(10)"
   ]
  },
  {
   "cell_type": "markdown",
   "id": "7be83128",
   "metadata": {},
   "source": [
    "## qution 4"
   ]
  },
  {
   "cell_type": "code",
   "execution_count": null,
   "id": "e3687e26",
   "metadata": {},
   "outputs": [],
   "source": [
    "driver=webdriver.Chrome(r\"C:\\Users\\MANISHA JUDHA\\Desktop\\chromedriver.exe\")"
   ]
  },
  {
   "cell_type": "code",
   "execution_count": null,
   "id": "954b8473",
   "metadata": {},
   "outputs": [],
   "source": [
    "url='https://www.flipkart.com/'\n",
    "driver.get(url)"
   ]
  },
  {
   "cell_type": "code",
   "execution_count": null,
   "id": "8ee6195c",
   "metadata": {},
   "outputs": [],
   "source": [
    "search_bar=driver.find_element_by_xpath('/html/body/div[1]/div/div[1]/div[1]/div[2]/div[2]/form/div/div/input')\n",
    "search_bar"
   ]
  },
  {
   "cell_type": "code",
   "execution_count": null,
   "id": "3949b384",
   "metadata": {},
   "outputs": [],
   "source": [
    "search_bar.send_keys('sunglasses')"
   ]
  },
  {
   "cell_type": "code",
   "execution_count": null,
   "id": "23325e46",
   "metadata": {},
   "outputs": [],
   "source": [
    "button=driver.find_element_by_class_name('L0Z3Pu')\n",
    "button.click()"
   ]
  },
  {
   "cell_type": "code",
   "execution_count": null,
   "id": "59d1c8d5",
   "metadata": {},
   "outputs": [],
   "source": [
    "#creating the empty list\n",
    "brand=[]\n",
    "description=[]\n",
    "price=[]\n",
    "discount=[]"
   ]
  },
  {
   "cell_type": "code",
   "execution_count": null,
   "id": "1ae30272",
   "metadata": {},
   "outputs": [],
   "source": [
    "start=0\n",
    "end=4\n",
    "for page in range(start,end):#for loop for scrapping 4 page\n",
    "    brands=driver.find_elements_by_class_name('_2WkVRV')#scraping brands name by class name='_2WkVRV'\n",
    "    for i in brands:\n",
    "        brand.append(i.text)#appending the text in Brand list\n",
    "    desc=driver.find_elements_by_xpath('//a[@class=\"IRpwTa\"]')#scraping description from the xpath\n",
    "    for i in desc:\n",
    "        description.append(i.text)#appending the description in list\n",
    "    prices=driver.find_elements_by_xpath(\"//div[@class='_30jeq3']\")# scraping the price from the xpath\n",
    "    for i in prices:\n",
    "        price.append(i.text)\n",
    "    disc=driver.find_elements_by_xpath(\"//div[@class='_3Ay6Sb']//span\")# scraping the discount from the xpath\n",
    "    for i in disc:\n",
    "        discount.append(i.text)\n",
    "    nxt_button=driver.find_elements_by_xpath(\"//a[@class='_1LKTO3']\")#scraping the list of buttons from the page\n",
    "    try:\n",
    "        driver.get(nxt_button[1].get_attribute('href'))#getting the link from the list for next page\n",
    "    except:\n",
    "        driver.get(nxt_button[0].get_attribute('href'))"
   ]
  },
  {
   "cell_type": "code",
   "execution_count": null,
   "id": "b0cf9c86",
   "metadata": {},
   "outputs": [],
   "source": [
    "#creating a dataframe\n",
    "df=pd.DataFrame({'Brand':brand[:100],\n",
    "                'Description':description[:100],\n",
    "                'Price':price[:100],\n",
    "                'Discount':discount[:100]})\n",
    "#printing dataframe\n",
    "df\n",
    " "
   ]
  },
  {
   "cell_type": "markdown",
   "id": "9eadd665",
   "metadata": {},
   "source": [
    "## quetion 5"
   ]
  },
  {
   "cell_type": "code",
   "execution_count": null,
   "id": "c9a0ad6f",
   "metadata": {},
   "outputs": [],
   "source": [
    "driver=webdriver.Chrome(r\"C:\\Users\\MANISHA JUDHA\\Desktop\\chromedriver.exe\")"
   ]
  },
  {
   "cell_type": "code",
   "execution_count": null,
   "id": "b1619de2",
   "metadata": {},
   "outputs": [],
   "source": [
    "driver.get('https://www.flipkart.com/apple-iphone-11-black-64-gb-includesearpods-poweradapter/p/itm0f37c2240b217?pid=MOBFKCTSVZAXUHGR&lid=LSTMOBFKCTSVZAXUHGREPBFGI&marketplace')"
   ]
  },
  {
   "cell_type": "code",
   "execution_count": null,
   "id": "a4e67813",
   "metadata": {},
   "outputs": [],
   "source": [
    "searchbtn=driver.find_element_by_xpath(\"//div[@class='_3UAT2v _16PBlm']/span\")\n",
    "searchbtn.click()"
   ]
  },
  {
   "cell_type": "code",
   "execution_count": null,
   "id": "75e4dabd",
   "metadata": {},
   "outputs": [],
   "source": [
    "rating=[]\n",
    "review=[]\n",
    "summary=[]"
   ]
  },
  {
   "cell_type": "code",
   "execution_count": null,
   "id": "e1399441",
   "metadata": {},
   "outputs": [],
   "source": [
    "a=driver.find_elements_by_xpath(\"//div[@class='_3LWZlK _1BLPMq']\")\n",
    "a[0:100]\n",
    "\n",
    "for i in a:\n",
    "    rat=i.text\n",
    "    rating.append(rat)\n",
    "rating[0:100]"
   ]
  },
  {
   "cell_type": "code",
   "execution_count": null,
   "id": "46f0587e",
   "metadata": {},
   "outputs": [],
   "source": [
    "b=driver.find_elements_by_xpath(\"//p[@class='_2-N8zT']\")\n",
    "b[0:100]\n",
    "\n",
    "for i in b:\n",
    "    rev=i.text\n",
    "    review.append(rev)\n",
    "review[0:100]"
   ]
  },
  {
   "cell_type": "code",
   "execution_count": null,
   "id": "1a38e889",
   "metadata": {},
   "outputs": [],
   "source": [
    "c=driver.find_elements_by_xpath(\"//div[@class='t-ZTKy']\")\n",
    "c[0:100]\n",
    "\n",
    "for i in c:\n",
    "    sum=i.text\n",
    "    summary.append(sum)\n",
    "summary[0:100]"
   ]
  },
  {
   "cell_type": "code",
   "execution_count": null,
   "id": "fb48ffd6",
   "metadata": {},
   "outputs": [],
   "source": [
    "df=pd.DataFrame({'ratings':rating[0:100],\n",
    "                  'review':review[0:100],\n",
    "                  'summary':summary[0:100]})\n",
    "\n",
    "df"
   ]
  },
  {
   "cell_type": "markdown",
   "id": "8dada7a5",
   "metadata": {},
   "source": [
    "## quetion 6"
   ]
  },
  {
   "cell_type": "code",
   "execution_count": null,
   "id": "fbeed15b",
   "metadata": {},
   "outputs": [],
   "source": [
    "driver.get(\"https://trak.in/?s=July+20+%E2%80%93+September+20\")"
   ]
  },
  {
   "cell_type": "code",
   "execution_count": null,
   "id": "23925ec6",
   "metadata": {},
   "outputs": [],
   "source": [
    "Title=driver.find_elements_by_xpath('//a[@class=\"title fw500 ellipsis\"]')\n",
    "for i in Title:\n",
    "    if i.text is None :\n",
    "        title.append(\"--\") \n",
    "    else:\n",
    "        title.append(i.text)\n"
   ]
  },
  {
   "cell_type": "code",
   "execution_count": null,
   "id": "103f2b01",
   "metadata": {},
   "outputs": [],
   "source": [
    "Author=driver.find_elements_by_xpath('//a[@class=\"title fw500 ellipsis\"]')\n",
    "for i in Author:\n",
    "    if i.text is None :\n",
    "        author.append(\"--\") \n",
    "    else:\n",
    "        author.append(i.text)"
   ]
  },
  {
   "cell_type": "code",
   "execution_count": null,
   "id": "e90ba0eb",
   "metadata": {},
   "outputs": [],
   "source": [
    "Date=driver.find_elements_by_xpath('//a[@class=\"title fw500 ellipsis\"]')\n",
    "for i in Date:\n",
    "    if i.text is None :\n",
    "        date.append(\"--\") \n",
    "    else:\n",
    "        date.append(i.text)\n"
   ]
  },
  {
   "cell_type": "code",
   "execution_count": null,
   "id": "de704d2e",
   "metadata": {},
   "outputs": [],
   "source": [
    "df=pd.DataFrame({'title':title[:100],'author':author[:100],'date': date[:100]})\n",
    "df"
   ]
  },
  {
   "cell_type": "markdown",
   "id": "968d6b4c",
   "metadata": {},
   "source": [
    "## question 7"
   ]
  },
  {
   "cell_type": "code",
   "execution_count": null,
   "id": "8600154f",
   "metadata": {},
   "outputs": [],
   "source": [
    "driver.get('\"https://www.digit.in/\"')"
   ]
  },
  {
   "cell_type": "code",
   "execution_count": null,
   "id": "2b620db7",
   "metadata": {},
   "outputs": [],
   "source": [
    "search_button= driver.find_element_by_xpath(\"//a[@href='#search']\")\n",
    "search_button.click()"
   ]
  },
  {
   "cell_type": "code",
   "execution_count": null,
   "id": "48e85bf5",
   "metadata": {},
   "outputs": [],
   "source": [
    "Gaming_laptop = driver.find_element_by_xpath(\"//input[@type='search']\")\n",
    "Gaming_laptop.send_keys(\"top 10 gaming laptops\")"
   ]
  },
  {
   "cell_type": "code",
   "execution_count": null,
   "id": "e409303c",
   "metadata": {},
   "outputs": [],
   "source": [
    "Gaming_laptop.click()"
   ]
  },
  {
   "cell_type": "code",
   "execution_count": null,
   "id": "a1892bc0",
   "metadata": {},
   "outputs": [],
   "source": [
    "Product_details=[]"
   ]
  },
  {
   "cell_type": "code",
   "execution_count": null,
   "id": "e49c7c82",
   "metadata": {},
   "outputs": [],
   "source": [
    "for b in driver.find_elements_by_xpath(\"//div[@class='searchProduct-desc']\"):\n",
    "    Product_details.append(b.text)"
   ]
  },
  {
   "cell_type": "code",
   "execution_count": null,
   "id": "4f6f5c75",
   "metadata": {},
   "outputs": [],
   "source": [
    "Laptops=pd.DataFrame({})\n",
    "Laptops[\"PRODUCT\"]=Product_details[0:10]\n",
    "Laptops"
   ]
  },
  {
   "cell_type": "markdown",
   "id": "d05ae1ff",
   "metadata": {},
   "source": [
    "## question 8"
   ]
  },
  {
   "cell_type": "code",
   "execution_count": null,
   "id": "8959d039",
   "metadata": {},
   "outputs": [],
   "source": []
  }
 ],
 "metadata": {
  "kernelspec": {
   "display_name": "Python 3",
   "language": "python",
   "name": "python3"
  },
  "language_info": {
   "codemirror_mode": {
    "name": "ipython",
    "version": 3
   },
   "file_extension": ".py",
   "mimetype": "text/x-python",
   "name": "python",
   "nbconvert_exporter": "python",
   "pygments_lexer": "ipython3",
   "version": "3.8.8"
  }
 },
 "nbformat": 4,
 "nbformat_minor": 5
}
