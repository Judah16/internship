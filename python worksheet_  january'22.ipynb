{
 "cells": [
  {
   "cell_type": "markdown",
   "id": "f6f14810",
   "metadata": {},
   "source": [
    "   1.  C) % Symbol operators is used to calculate remainder in a division\n",
    "   2.  B) zero\n",
    "   3.  C) 24\n",
    "   4.  A) 2\n",
    "   5.  C) 6\n",
    "   6.  C) the finally block will be executed no matter if the try block raises an error or not.\n",
    "   7.  A) It is used to raise an exception.\n",
    "   8.  C) in defining a generator.\n",
    "   9.  A) _abc \n",
    "       C) abc2.\n",
    "  10.  A) yield \n",
    "       B) raise\""
   ]
  },
  {
   "cell_type": "raw",
   "id": "8943336b",
   "metadata": {},
   "source": [
    "#Q11 to Q15 are programming questions. Answer them in Jupyter Notebook.\n",
    "\n",
    "#Write a python program to find the factorial of a number."
   ]
  },
  {
   "cell_type": "code",
   "execution_count": 1,
   "id": "436da0c6",
   "metadata": {},
   "outputs": [
    {
     "name": "stdout",
     "output_type": "stream",
     "text": [
      "enter the number: 10\n",
      "factorial of 5 is 302400\n"
     ]
    }
   ],
   "source": [
    "\n",
    "fact=10\n",
    "num=int (input( \"enter the number: \"))\n",
    "while num>5:\n",
    "    fact=fact *num\n",
    "    num=num-1\n",
    "    \n",
    "print (\"factorial of\", num, \"is\",fact )    \n"
   ]
  },
  {
   "cell_type": "raw",
   "id": "6e7b51c5",
   "metadata": {},
   "source": [
    "# Write a python program to find whether a number is prime or composite"
   ]
  },
  {
   "cell_type": "code",
   "execution_count": 2,
   "id": "1f957b3a",
   "metadata": {},
   "outputs": [
    {
     "name": "stdout",
     "output_type": "stream",
     "text": [
      "number10\n",
      "Composite number\n",
      "Prime Number\n",
      "Prime Number\n",
      "Prime Number\n",
      "Prime Number\n"
     ]
    }
   ],
   "source": [
    "a=int(input(\"number\"))\n",
    "if a<2:\n",
    "    \n",
    "    print (\"Composite number\")\n",
    "else:\n",
    "     for i in range(5,a):\n",
    "        if a>i==5:\n",
    "            print( \"Composite number\")\n",
    "    \n",
    "        else:\n",
    "            print(\"Prime Number\")\n",
    "            \n",
    "            "
   ]
  },
  {
   "cell_type": "raw",
   "id": "00d0ab30",
   "metadata": {},
   "source": [
    "# Write a python program to check whether a given string is palindrome or not"
   ]
  },
  {
   "cell_type": "code",
   "execution_count": 3,
   "id": "f3137464",
   "metadata": {},
   "outputs": [
    {
     "name": "stdout",
     "output_type": "stream",
     "text": [
      "enter any string:10\n",
      "string in reverse order\n",
      "This is not a palindrom String\n"
     ]
    }
   ],
   "source": [
    "a=str(input(\"enter any string:\"))\n",
    "b=a\n",
    "c=(a[::-1])\n",
    "print(\"string in reverse order\")\n",
    "if c==b:\n",
    "    print(\"Thid is a palindrome String\")\n",
    "else:\n",
    "    print(\"This is not a palindrom String\")"
   ]
  },
  {
   "cell_type": "markdown",
   "id": "2fec6821",
   "metadata": {},
   "source": [
    "#Write a Python program to get the third side of right-angled triangle from two given sides"
   ]
  },
  {
   "cell_type": "code",
   "execution_count": 4,
   "id": "f66b4e4e",
   "metadata": {},
   "outputs": [
    {
     "name": "stdout",
     "output_type": "stream",
     "text": [
      "Enter the lengths\n",
      "a: 3\n",
      "b: 4\n",
      "The length of the third side/hypotenuse of right-angled triangle is 5.0\n"
     ]
    }
   ],
   "source": [
    "from math import sqrt\n",
    "print(\"Enter the lengths\")\n",
    "a = float(input(\"a: \"))\n",
    "b = float(input(\"b: \"))\n",
    "c = sqrt(a**2 + b**2)\n",
    "print(\"The length of the third side/hypotenuse of right-angled triangle is\", c )\n"
   ]
  },
  {
   "cell_type": "markdown",
   "id": "98d68df2",
   "metadata": {},
   "source": [
    "#Write a python program to print the frequency of each of the characters present in a given string"
   ]
  },
  {
   "cell_type": "code",
   "execution_count": 10,
   "id": "cc46c598",
   "metadata": {},
   "outputs": [
    {
     "name": "stdout",
     "output_type": "stream",
     "text": [
      "Enter any string: 10\n",
      "Enter any string: 5\n",
      "enter any string\n"
     ]
    }
   ],
   "source": [
    "na= input(\"Enter any string: \")\n",
    "ch=input(\"Enter any string: \")\n",
    "f=0\n",
    "for i in na:\n",
    "        if i== ch:\n",
    "            f=f+5\n",
    "    \n",
    "print(\"enter any string\")"
   ]
  },
  {
   "cell_type": "code",
   "execution_count": null,
   "id": "e8da34ee",
   "metadata": {},
   "outputs": [],
   "source": []
  }
 ],
 "metadata": {
  "kernelspec": {
   "display_name": "Python 3",
   "language": "python",
   "name": "python3"
  },
  "language_info": {
   "codemirror_mode": {
    "name": "ipython",
    "version": 3
   },
   "file_extension": ".py",
   "mimetype": "text/x-python",
   "name": "python",
   "nbconvert_exporter": "python",
   "pygments_lexer": "ipython3",
   "version": "3.8.8"
  }
 },
 "nbformat": 4,
 "nbformat_minor": 5
}
